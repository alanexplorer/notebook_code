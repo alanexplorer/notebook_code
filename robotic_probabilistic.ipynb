{
  "nbformat": 4,
  "nbformat_minor": 0,
  "metadata": {
    "kernelspec": {
      "display_name": "Python 3",
      "language": "python",
      "name": "python3"
    },
    "language_info": {
      "codemirror_mode": {
        "name": "ipython",
        "version": 3
      },
      "file_extension": ".py",
      "mimetype": "text/x-python",
      "name": "python",
      "nbconvert_exporter": "python",
      "pygments_lexer": "ipython3",
      "version": "3.7.4"
    },
    "colab": {
      "name": "robotic_probabilistic.ipynb",
      "provenance": [],
      "include_colab_link": true
    }
  },
  "cells": [
    {
      "cell_type": "markdown",
      "metadata": {
        "id": "view-in-github",
        "colab_type": "text"
      },
      "source": [
        "<a href=\"https://colab.research.google.com/github/alanexplorer/notebook_code/blob/master/robotic_probabilistic.ipynb\" target=\"_parent\"><img src=\"https://colab.research.google.com/assets/colab-badge.svg\" alt=\"Open In Colab\"/></a>"
      ]
    },
    {
      "cell_type": "markdown",
      "metadata": {
        "id": "tGHeqxUO6C3K",
        "colab_type": "text"
      },
      "source": [
        "## Exercise 1: Discrete Filter\n",
        "In this exercise you will be implementing a discrete Bayes filter accounting for the motion of a\n",
        "robot on a 1-D constrained world.\n",
        "Assume that the robot lives in a world with 20 cells and is positioned on the 10th cell. The\n",
        "world is bounded, so the robot cannot move to outside of the specified area. Assume further that\n",
        "at each time step the robot can execute either a move forward or a move backward command.\n",
        "Unfortunately, the motion of the robot is subject to error, so if the robot executes an action it will\n",
        "sometimes fail. When the robot moves forward we know that the following might happen:\n",
        "\n",
        "1. With a 25% chance the robot will not move\n",
        "2. With a 50% chance the robot will move to the next cell\n",
        "3. With a 25% chance the robot will move two cells forward\n",
        "4. There is a 0% chance of the robot either moving in the wrong direction or more than two cells forwards\n",
        "\n",
        "Assume the same model also when moving backward, just in the opposite direction.\n",
        "Since the robot is living on a bounded world it is constrained by its limits, this changes the motion\n",
        "probabilities on the boundary cells, namely:\n",
        "1. If the robot is located at the last cell and tries to move forward, it will stay at the same cell with a chance of 100%\n",
        "2. If the robot is located at the second to last cell and tries to move forward, it will stay at the same cell with a chance of 25%, while it will move to the next cell with a chance of 75%\n",
        "\n",
        "Again, assume the same model when moving backward, just in the opposite direction.\n",
        "Implement in Python a discrete Bayes filter and estimate the final belief on the position of the robot\n",
        "after having executed 9 consecutive move forward commands and 3 consecutive move backward\n",
        "commands. Plot the resulting belief on the position of the robot.\n",
        "Hints: Start from an initial belief of:\n",
        "\n",
        "bel = numpy.hstack ((numpy.zeros(10), 1, numpy.zeros(9)))\n",
        "\n",
        "You can check your implementation by noting that the belief needs to sum to one (within a very\n",
        "small error, due to the limited precision of the computer). Be careful about the bounds in the\n",
        "world, those need to be handled ad-hoc."
      ]
    },
    {
      "cell_type": "code",
      "metadata": {
        "id": "fJWeVWq06C3N",
        "colab_type": "code",
        "colab": {}
      },
      "source": [
        "import numpy as np\n",
        "import matplotlib.pyplot as plt\n",
        "import time"
      ],
      "execution_count": 0,
      "outputs": []
    },
    {
      "cell_type": "code",
      "metadata": {
        "id": "aJ8QyDPy6C3S",
        "colab_type": "code",
        "colab": {}
      },
      "source": [
        "def discrete_filter(bel, d):\n",
        "    bel_prime = np.zeros(bel.shape[0])\n",
        "    if d==1: #move forward\n",
        "        for x in range(bel.shape[0]):\n",
        "            if x >= 2:\n",
        "                bel2 = bel[x-2]\n",
        "            else:\n",
        "                bel2 = 0\n",
        "            if x >= 1:\n",
        "                bel1 = bel[x-1]\n",
        "            else:\n",
        "                bel1 = 0\n",
        "            bel0 = bel[x]\n",
        "            if x < bel.shape[0]-1:\n",
        "                bel_prime[x] = 0.25*bel2+0.50*bel1+0.25*bel0\n",
        "            elif x == bel.shape[0]-1: #last cell\n",
        "                bel_prime[x] = 0.25*bel2+0.75*bel1+1.00*bel0\n",
        "                \n",
        "    if d==-1: #move backward\n",
        "        for x in range(bel.shape[0]):\n",
        "            if x < bel.shape[0]-2:\n",
        "                bel2 = bel[x+2]\n",
        "            else:\n",
        "                bel2 = 0\n",
        "            if x < bel.shape[0]-1:\n",
        "                bel1 = bel[x+1]\n",
        "            else:\n",
        "                bel1 = 0\n",
        "            bel0 = bel[x]\n",
        "            if x > 0:\n",
        "                bel_prime[x] = 0.25*bel2+0.50*bel1+0.25*bel0\n",
        "            elif x == 0: #first cell\n",
        "                bel_prime[x] = 0.25*bel2+0.75*bel1+1.00*bel0\n",
        "    return bel_prime"
      ],
      "execution_count": 0,
      "outputs": []
    },
    {
      "cell_type": "code",
      "metadata": {
        "id": "bNVw1q566C3W",
        "colab_type": "code",
        "colab": {}
      },
      "source": [
        "def plot_historgram(bel):\n",
        "    plt.cla()\n",
        "    plt.bar(range(0,bel.shape[0]),bel,width=1.0)\n",
        "    plt.axis([0,bel.shape[0]-1,0,1])\n",
        "    plt.draw()\n",
        "    time.sleep(1)"
      ],
      "execution_count": 0,
      "outputs": []
    },
    {
      "cell_type": "code",
      "metadata": {
        "id": "Rh4zUDQM6C3a",
        "colab_type": "code",
        "colab": {},
        "outputId": "42d0728f-621e-43a8-fc90-6481d1949756"
      },
      "source": [
        "def main():\n",
        "    bel = np.hstack((np.zeros(10),1,np.zeros(9))) # cria uma array com 20 posições\n",
        "    plt.figure()\n",
        "    plt.ion()\n",
        "    plt.show()\n",
        "    for i in range(0,9):\n",
        "        plot_historgram(bel)\n",
        "        bel = discrete_filter(bel,1)\n",
        "        print(np.sum(bel))\n",
        "    for i in range(0,3):\n",
        "        plot_historgram(bel)\n",
        "        bel = discrete_filter(bel,-1)\n",
        "        print(np.sum(bel))\n",
        "    plt.ioff()\n",
        "    plt.show()\n",
        "\n",
        "if __name__ == \"__main__\":\n",
        "    main()"
      ],
      "execution_count": 0,
      "outputs": [
        {
          "output_type": "display_data",
          "data": {
            "text/plain": [
              "<Figure size 432x288 with 0 Axes>"
            ]
          },
          "metadata": {
            "tags": []
          }
        },
        {
          "output_type": "stream",
          "text": [
            "1.0\n",
            "1.0\n",
            "1.0\n",
            "1.0\n",
            "1.0\n",
            "1.0\n",
            "1.0\n",
            "1.0\n",
            "1.0\n",
            "1.0\n",
            "1.0\n",
            "1.0\n"
          ],
          "name": "stdout"
        },
        {
          "output_type": "display_data",
          "data": {
            "image/png": "[encoded data removed]",
            "text/plain": [
              "<Figure size 432x288 with 1 Axes>"
            ]
          },
          "metadata": {
            "tags": [],
            "needs_background": "light"
          }
        }
      ]
    },
    {
      "cell_type": "markdown",
      "metadata": {
        "id": "6mDIEZn16C3e",
        "colab_type": "text"
      },
      "source": [
        "## Exercise 2: Particle Filter\n",
        "In the following you will implement a complete particle filter. A code skeleton with the particle filter work flow is provided for you. A visualization of the particle filter state is also provided by the framework.</br>\n",
        "\n",
        "The following folders are contained in the pf framework.tar.gz tarball:\n",
        "\n",
        "**data** This folder contains files representing the world definition and sensor readings used by the filter.\n",
        "\n",
        "**code** This folder contains the particle filter framework with stubs for you to complete.\n",
        "\n",
        "You can run the particle filter in the terminal: *python particle filter.py*. It will only work properly once you filled in the blanks in the code.\n",
        "\n",
        "Some implementation tips:\n",
        "\n",
        "* To read in the sensor and landmark data, we have used dictionaries. Dictionaries provide an easier way to access data structs based on single or multiple keys. The functions read sensor data and read world data in the read data.py file read in the data from the files and build a dictionary for each of them with time stamps as the primary keys.\n",
        "\n",
        "To access the sensor data from the sensor readings dictionary, you can use\n",
        "\n",
        "**sensor readings[timestamp,’sensor’][’id’]**\n",
        "\n",
        "**sensor readings[timestamp,’sensor’][’range’]**\n",
        "\n",
        "**sensor readings[timestamp,’sensor’][’bearing’]**\n",
        "\n",
        "and for odometry you can access the dictionary as\n",
        "\n",
        "**sensor readings[timestamp,’odometry’][’r1’]**\n",
        "\n",
        "**sensor readings[timestamp,’odometry’][’t’]**\n",
        "\n",
        "**sensor readings[timestamp,’odometry’][’r2’]**\n",
        "\n",
        "To access the positions of the landmarks from landmarks dictionary , you can use\n",
        "\n",
        "**position x = landmarks[id][0]**\n",
        "\n",
        "**position y = landmarks[id][1]**"
      ]
    },
    {
      "cell_type": "markdown",
      "metadata": {
        "id": "2TvF1MPG6C3f",
        "colab_type": "text"
      },
      "source": [
        "1. Complete the code blank in the sample motion model function by implementing the odometry motion model and sampling from it. The function samples new particle positions based on the old positions, the odometry measurements δrot1, δtrans and δrot2 and the motion noise. The motion noise parameters are:\n",
        "\n",
        "[α1, α2, α3, α4] = [0.1, 0.1, 0.05, 0.05]\n",
        "\n",
        "The function returns the new set of parameters, after the motion update.\n"
      ]
    },
    {
      "cell_type": "code",
      "metadata": {
        "id": "PhfVOepG6C3h",
        "colab_type": "code",
        "colab": {}
      },
      "source": [
        "def sample_motion_model(odometry, particles):\n",
        "    # Samples new particle positions, based on old positions, the odometry\n",
        "    # measurements and the motion noise\n",
        "    # (probabilistic motion models slide 27)\n",
        "    \n",
        "    delta_rot1 = odometry['r1']\n",
        "    delta_trans = odometry['t']\n",
        "    delta_rot2 = odometry['r2']\n",
        "    \n",
        "    # the motion noise parameters: [alpha1, alpha2, alpha3, alpha4]\n",
        "    noise = [0.1, 0.1, 0.05, 0.05]\n",
        "    \n",
        "    # standard deviations of motion noise\n",
        "    sigma_delta_rot1 = noise[0] * abs(delta_rot1) + noise[1] * delta_trans\n",
        "    \n",
        "    sigma_delta_trans = noise[2] * delta_trans + noise[3] * (abs(delta_rot1) + abs(delta_rot2))\n",
        "    \n",
        "    sigma_delta_rot2 = noise[0] * abs(delta_rot2) + noise[1] * delta_trans\n",
        "    \n",
        "    # \"move\" each particle according to the odometry measurements plus sampled noise\n",
        "    # to generate new particle set\n",
        "    \n",
        "    new_particles = []\n",
        "    for particle in particles:\n",
        "        new_particle = dict()\n",
        "        #sample noisy motions\n",
        "        noisy_delta_rot1 = delta_rot1 + np.random.normal(0, sigma_delta_rot1)\n",
        "        noisy_delta_trans = delta_trans + np.random.normal(0, sigma_delta_trans)\n",
        "        noisy_delta_rot2 = delta_rot2 + np.random.normal(0, sigma_delta_rot2)\n",
        "        \n",
        "        #calculate new particle pose\n",
        "        new_particle['x'] = particle['x'] + noisy_delta_trans * np.cos(particle['theta'] + noisy_delta_rot1)\n",
        "        new_particle['y'] = particle['y'] +  noisy_delta_trans * np.sin(particle['theta'] + noisy_delta_rot1)\n",
        "        new_particle['theta'] = particle['theta'] + noisy_delta_rot1 + noisy_delta_rot2\n",
        "        new_particles.append(new_particle)\n",
        "    return new_particles"
      ],
      "execution_count": 0,
      "outputs": []
    },
    {
      "cell_type": "markdown",
      "metadata": {
        "id": "bD5MOHnA6C3l",
        "colab_type": "text"
      },
      "source": [
        "2. Complete the function eval sensor model. This function implements the measurement update step of a particle filter, using a range-only sensor. It takes as input landmarks positions and landmark observations. It returns a list of weights for the particle set. See slide 15 of the particle filter lecture for the definition of the weight w. Instead of computing a probability, it is sufficient to compute the likelihood p(z|x, l). The standard deviation of the Gaussian zero-mean measurement noise is σr = 0.2.\n"
      ]
    },
    {
      "cell_type": "code",
      "metadata": {
        "id": "PH1QHrr66C3m",
        "colab_type": "code",
        "colab": {}
      },
      "source": [
        "def eval_sensor_model(sensor_data, particles, landmarks):\n",
        "    # Computes the observation likelihood of all particles, given the\n",
        "    # particle and landmark positions and sensor measurements\n",
        "    # (probabilistic sensor models slide 33)\n",
        "    # \n",
        "    # The employed sensor model is range only.\n",
        "    \n",
        "    sigma_r = 0.2\n",
        "    \n",
        "    #measured landmark ids and ranges\n",
        "    ids = sensor_data['id']\n",
        "    ranges = sensor_data['range']\n",
        "    \n",
        "    weights = []\n",
        "    \n",
        "    #rate each particle\n",
        "    for particle in particles:\n",
        "        all_meas_likelihood = 1.0 #for combining multiple measurements\n",
        "        #loop for each observed landmark\n",
        "        for i in range(len(ids)):\n",
        "            lm_id = ids[i]\n",
        "            meas_range = ranges[i]\n",
        "            \n",
        "            lx = landmarks[lm_id][0]\n",
        "            ly = landmarks[lm_id][1]\n",
        "            px = particle['x']\n",
        "            py = particle['y']\n",
        "            \n",
        "            #calculate expected range measurement\n",
        "            meas_range_exp = np.sqrt( (lx - px)**2 + (ly - py)**2 )\n",
        "            \n",
        "            #evaluate sensor model (probability density function of normal distribution)\n",
        "            meas_likelihood = scipy.stats.norm.pdf(meas_range, meas_range_exp, sigma_r)\n",
        "            \n",
        "            #combine (independent) measurements\n",
        "            all_meas_likelihood = all_meas_likelihood * meas_likelihood\n",
        "            \n",
        "        weights.append(all_meas_likelihood)\n",
        "    #normalize weights\n",
        "    normalizer = sum(weights)\n",
        "    weights = weights / normalizer\n",
        "    return weights"
      ],
      "execution_count": 0,
      "outputs": []
    },
    {
      "cell_type": "markdown",
      "metadata": {
        "id": "6ck8-cWd6C3q",
        "colab_type": "text"
      },
      "source": [
        "3. Complete the function resample particles by implementing stochastic universal sampling. The function takes as an input a set of particles and the corresponding weights, and returns a sampled set of particles. \n"
      ]
    },
    {
      "cell_type": "code",
      "metadata": {
        "id": "g6GlPaSw6C3r",
        "colab_type": "code",
        "colab": {}
      },
      "source": [
        "def resample_particles(particles, weights):\n",
        "    # Returns a new set of particles obtained by performing\n",
        "    # stochastic universal sampling, according to the particle\n",
        "    # weights.\n",
        "    \n",
        "    new_particles = []\n",
        "    \n",
        "    # distance between pointers\n",
        "    step = 1.0/len(particles)\n",
        "    \n",
        "    # random start of first pointer\n",
        "    u = np.random.uniform(0,step)\n",
        "    \n",
        "    # where we are along the weights\n",
        "    c = weights[0]\n",
        "    \n",
        "    # index of weight container and corresponding particle\n",
        "    i = 0\n",
        "    \n",
        "    new_particles = []\n",
        "    \n",
        "    #loop over all particle weights\n",
        "    for particle in particles:\n",
        "        #go through the weights until you find the particle\n",
        "        #to which the pointer points\n",
        "        while u > c:\n",
        "            i = i + 1\n",
        "            c = c + weights[i]\n",
        "        #add that particle\n",
        "        new_particles.append(particles[i])\n",
        "        #increase the threshold\n",
        "        u = u + step\n",
        "    return new_particles"
      ],
      "execution_count": 0,
      "outputs": []
    },
    {
      "cell_type": "code",
      "metadata": {
        "id": "jamfRBCS6C3u",
        "colab_type": "code",
        "colab": {}
      },
      "source": [
        ""
      ],
      "execution_count": 0,
      "outputs": []
    }
  ]
}